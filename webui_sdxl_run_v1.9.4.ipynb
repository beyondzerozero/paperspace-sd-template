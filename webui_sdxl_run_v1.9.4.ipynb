{
 "cells": [
  {
   "cell_type": "markdown",
   "metadata": {
    "id": "D4U-zSJ0PesD"
   },
   "source": [
    "[![Open in SageMaker Studio Lab](https://studiolab.sagemaker.aws/studiolab.svg)](https://studiolab.sagemaker.aws/import/github/koya-jp/AA-google-colab-kohya/blob/master/webui_sdxl_run_v1.6.0.ipynb)"
   ]
  },
  {
   "cell_type": "markdown",
   "metadata": {
    "id": "2Bf_6pt0PesU",
    "tags": []
   },
   "source": [
    "#### *** 환경준비 (터미널에서 실행) ***"
   ]
  },
  {
   "cell_type": "code",
   "execution_count": null,
   "metadata": {
    "id": "69ORtIDdPesL"
   },
   "outputs": [],
   "source": [
    "# 신규 환경 만들기 \n",
    "conda create -y --name sd_env python=3.10.6\n",
    "conda activate sd_env\n",
    "conda install -y ipykernel\n",
    "\n",
    "# 환경 재설정 (삭제)\n",
    "conda activate sd_env\n",
    "conda deactivate\n",
    "conda remove -y -n sd_env --all"
   ]
  },
  {
   "cell_type": "markdown",
   "metadata": {
    "id": "yXG2Yh52PesJ",
    "tags": []
   },
   "source": [
    "#### *** 환경구축 ***"
   ]
  },
  {
   "cell_type": "code",
   "execution_count": null,
   "metadata": {
    "id": "AW38z7jHPesN",
    "tags": []
   },
   "outputs": [],
   "source": [
    "%cd /home/studio-lab-user/\n",
    "!python -V\n",
    "# !df -h\n",
    "# !rm -rf /home/studio-lab-user/.cache # 캐시삭제 \n",
    "\n",
    "###############################################################################\n",
    "\n",
    "%conda install -y aria2==1.36.0\n",
    "%conda install -y -c conda-forge libglib==2.78.0\n",
    "!pip install torchvision==0.15.2 -U\n",
    "!pip install xformers==0.0.20 -U\n",
    "!pip install triton==2.0.0 -U\n",
    "!pip install httpx==0.24.1 -U\n",
    "!pip install matplotlib==3.8.1 -U\n",
    "!pip install ipython==8.17.2 -U\n",
    "# !pip install torch==2.0.0+cu118 torchvision==0.15.2+cu118 torchaudio==2.0.1+cu118 torchtext==0.15.1 torchdata==0.6.0 --extra-index-url https://download.pytorch.org/whl/cu118 -U\n",
    "\n",
    "import os\n",
    "import glob\n",
    "from IPython import get_ipython\n",
    "\n",
    "# 그래프 그리기 라이브러리를 인라인으로 표시하는 설정 \n",
    "get_ipython().run_line_magic('matplotlib', 'inline')\n",
    "\n",
    "# Stable Diffusion WebUI 리포지토리 없으면 복제 \n",
    "if not os.path.isdir(\"/home/studio-lab-user/ui\"):\n",
    "    %cd /home/studio-lab-user\n",
    "    !git clone https://github.com/AUTOMATIC1111/stable-diffusion-webui /home/studio-lab-user/ui\n",
    "    # # Stable Diffusion WebUI v1.9.4 사용\n",
    "    # %cd /home/studio-lab-user/ui\n",
    "    # !git checkout master\n",
    "    # !git checkout feee37d75f1b168768014e4634dcb156ee649c05"
   ]
  },
  {
   "cell_type": "code",
   "execution_count": null,
   "metadata": {
    "tags": []
   },
   "outputs": [],
   "source": [
    "# 업데이트 \n",
    "%cd /home/studio-lab-user/ui\n",
    "!git checkout master\n",
    "!git pull #업데이트 "
   ]
  },
  {
   "cell_type": "markdown",
   "metadata": {
    "id": "RUMktDrzPesV",
    "tags": []
   },
   "source": [
    "#### ***⭐ 실행 ----------------------------------------------------------------------------***"
   ]
  },
  {
   "cell_type": "code",
   "execution_count": null,
   "metadata": {
    "id": "FsTN3ACUPesV",
    "tags": []
   },
   "outputs": [],
   "source": [
    "%cd /home/studio-lab-user/ui\n",
    "!rm -rf /home/studio-lab-user/.cache #⭐캐시삭제 \n",
    "!df -h #현재 여유공간 표시 \n",
    "\n",
    "# Model이 없으면 blue_pencil-XL-v0.8.0.safetensors을 다운로드함\n",
    "if not glob.glob(\"/home/studio-lab-user/ui/models/Stable-diffusion/*.safetensors\"):\n",
    "    os.system(\"aria2c --console-log-level=error -c -x 16 -s 16 -k 1M https://huggingface.co/bluepen5805/blue_pencil-XL/resolve/main/blue_pencil-XL-v0.8.0.safetensors -d /home/studio-lab-user/ui/models/Stable-diffusion -o blue_pencil-XL-v0.8.0.safetensors\")\n",
    "\n",
    "# 설정변경 \n",
    "%cd /home/studio-lab-user/ui\n",
    "!sed -i -e 's/\\[\"sd_model_checkpoint\"\\]/\\[\"sd_model_checkpoint\",\"sd_vae\",\"CLIP_stop_at_last_layers\"\\]/g' /home/studio-lab-user/ui/modules/shared_options.py\n",
    "\n",
    "# SDXL용 UI 편집\n",
    "if os.path.exists(\"/home/studio-lab-user/ui/ui-config.json\"):\n",
    "    !sed -i -e 's/value\": 512/value\": 1024/g' /home/studio-lab-user/ui/ui-config.json\n",
    "    !sed -i -e 's/Grid margins (px)\\/value\": 0/Grid margins (px)\\/value\": 5/g' /home/studio-lab-user/ui/ui-config.json\n",
    "\n",
    "if os.path.exists(\"/home/studio-lab-user/ui/config.json\"):\n",
    "    !sed -i -e 's/\"\\[date\\]\"/\"\\[date\\]-\\[model_name\\]\"/g' /home/studio-lab-user/ui/config.json\n",
    "\n",
    "# NGROK TOKEN 정의 \n",
    "ngrok_token=\"YOUR NGROK TOKEN\"\n",
    "\n",
    "# Stable Diffusion WebUI 시작 \n",
    "ARGS = \"\\\"--listen --xformers --enable-insecure-extension-access --no-half-vae --ngrok \" + ngrok_token + \"\\\"\"\n",
    "!COMMANDLINE_ARGS=$ARGS python launch.py"
   ]
  },
  {
   "cell_type": "markdown",
   "metadata": {
    "id": "CYMWBdUSPesV",
    "tags": []
   },
   "source": [
    "#### *** 이미지 생성 결과 Zip으로 저장 ***"
   ]
  },
  {
   "cell_type": "code",
   "execution_count": null,
   "metadata": {
    "id": "2WuNEg1WPesV",
    "tags": []
   },
   "outputs": [],
   "source": [
    "# 이미지 생성결과를 ZIP으로 생성하고 100개 이상의 폴더는 100개마다 ZIP으로 생성함 \n",
    "\n",
    "import os\n",
    "import glob\n",
    "import datetime\n",
    "import zipfile\n",
    "import shutil\n",
    "\n",
    "# 오늘날짜 받기 \n",
    "today = datetime.datetime.now().strftime(\"%Y%m%d_%H%M%S\")\n",
    "\n",
    "# 압축할 이미지 경로 \n",
    "# 이미지 경로 \n",
    "img_paths = [f\"/home/studio-lab-user/ui/outputs/{folder}\" for folder in [\"txt2img-images\", \"txt2img-grids\", \"img2img-images\", \"img2img-grids\", \"extras-images\"]]\n",
    "\n",
    "# ZIP파일경로 \n",
    "zip_paths = [f\"/home/studio-lab-user/outputs_{folder}_{today}.zip\" for folder in [\"txt2img-images\", \"txt2img-grids\", \"img2img-images\", \"img2img-grids\", \"extras-images\"]]\n",
    "\n",
    "# 이동대상 폴더 경로 \n",
    "move_paths = [f\"{img_path}/*\" for img_path in img_paths]\n",
    "\n",
    "# 불필요한 폴더 경로 \n",
    "delete_paths = [f\"/home/studio-lab-user/Delete/{folder}/{today}\" for folder in [\"txt2img-images\", \"txt2img-grids\", \"img2img-images\", \"img2img-grids\", \"extras-images\"]]\n",
    "\n",
    "\n",
    "# ZIP파일로 압축하는 기능 \n",
    "def zip_files(img_path, zip_path):\n",
    "    with zipfile.ZipFile(zip_path, \"w\", zipfile.ZIP_DEFLATED) as zf:\n",
    "        # 하위폴더와 파일의 모든 경로를 가져옴 \n",
    "        for root, dirs, files in os.walk(img_path):\n",
    "            for file in files:\n",
    "                # ZIP파일에 쓸 경로를 상대경로 설정하기 \n",
    "                rel_path = os.path.relpath(os.path.join(root, file), img_path)\n",
    "                # ZIP파일로 쓰기 \n",
    "                zf.write(os.path.join(root, file), rel_path)\n",
    "\n",
    "\n",
    "# img_path의 파일수가 50개 이상이면 1,2와 같은 이름으로 폴더를 만들어 100개씩 이동시키는 함수\n",
    "def split_files(img_path):\n",
    "    # img_path 파일수 조회 \n",
    "    file_count = len(os.listdir(img_path))\n",
    "\n",
    "    # 파일수가 50개 이상이면 \n",
    "    if file_count > 50:\n",
    "        # 폴더번호 초기화 \n",
    "        folder_num = 1\n",
    "        # 파일목록 가져오기 \n",
    "        file_list = os.listdir(img_path)\n",
    "        # 파일목록 100개씩 분할 \n",
    "        file_chunks = [file_list[i:i+50] for i in range(0, file_count, 50)]\n",
    "        # 분할된 파일목록별로 처리 \n",
    "        for file_chunk in file_chunks:\n",
    "            # 폴더명 만들기 \n",
    "            folder_name = str(folder_num)\n",
    "            # 폴더 경로 생성 \n",
    "            folder_path = os.path.join(img_path, \"zip_\"+folder_name)\n",
    "            # 폴더가 없으면 생성 \n",
    "            if not os.path.exists(folder_path):\n",
    "                os.makedirs(folder_path)\n",
    "            # 폴더로 파일이동 \n",
    "            for file in file_chunk:\n",
    "                file_path = os.path.join(img_path, file)\n",
    "                shutil.move(file_path, folder_path)\n",
    "            # 폴더번호 업데이트 \n",
    "            folder_num += 1\n",
    "\n",
    "\n",
    "# 이미지 경로와 ZIP파일 경로의 쌍으로 압축 및 이동을 수행하는 함수\n",
    "def zip_and_move(img_path, zip_path, move_path, delete_path):\n",
    "    # 이미지 경로에 폴더나 파일이 없으면 건너뜀 \n",
    "\n",
    "    try:\n",
    "        if len(os.listdir(img_path)) == 0:\n",
    "            return\n",
    "    except FileNotFoundError:\n",
    "        return\n",
    "\n",
    "    # img_path의 파일수가 100개 이상이면 1,2와 같은 이름으로 폴더를 만들어 100개씩 이동시키는 함수를 호출함\n",
    "    split_files(img_path)\n",
    "\n",
    "    # img_path 하위폴더 목록 가져오기 \n",
    "    subfolder_list = os.listdir(img_path)\n",
    "\n",
    "    # 하위폴더별로 처리 \n",
    "    for subfolder in subfolder_list:\n",
    "        # 하위폴더 경로 생성 \n",
    "        subfolder_path = os.path.join(img_path, subfolder)\n",
    "        # ZIP파일명 생성 (하위폴더명끝에 추가)\n",
    "        zip_name = zip_path[:-4] + \"_\" + subfolder + \".zip\"\n",
    "        # ZIP파일로 압축하는 함수호출 \n",
    "        zip_files(subfolder_path, zip_name)\n",
    "\n",
    "    # 이동할 폴더가 없으면 생성 \n",
    "    if not os.path.exists(delete_path):\n",
    "        os.makedirs(delete_path)\n",
    "\n",
    "    # 와일드카드와 일치하는 경로목록 가져옴 \n",
    "    move_list = glob.glob(move_path)\n",
    "\n",
    "    # 이동 실행 \n",
    "    for file in move_list:\n",
    "        shutil.move(file, delete_path)\n",
    "\n",
    "    print(img_path)\n",
    "    !ls {img_path}\n",
    "\n",
    "\n",
    "# 용령 정리 \n",
    "!rm -rf /home/studio-lab-user/.cache # 캐시삭제 \n",
    "\n",
    "# 이미지경로와 ZIP파일경로의 쌍으로 압축 및 이동을 수행\n",
    "for img_path, zip_path, move_path, delete_path in zip(img_paths, zip_paths, move_paths, delete_paths):\n",
    "    zip_and_move(img_path, zip_path, move_path, delete_path)\n",
    "\n",
    "# 예비 \n",
    "# today = datetime.datetime.now().strftime(\"%Y%m%d_%H%M%S\")\n",
    "# zip_path = f\"/home/studio-lab-user/outputs-{today}.zip\"\n",
    "# img_path = \"Delete/txt2img-images/20230816_130141/2023-08-16/2\"\n",
    "# zip_files(\"/home/studio-lab-user/\"+img_path,zip_path)"
   ]
  },
  {
   "cell_type": "markdown",
   "metadata": {
    "id": "LSuYhcrePesW",
    "tags": []
   },
   "source": [
    "#### ***용량정리***"
   ]
  },
  {
   "cell_type": "code",
   "execution_count": null,
   "metadata": {
    "id": "UbIkXInaPesW",
    "tags": []
   },
   "outputs": [],
   "source": [
    "# 용량확인 \n",
    "!df -h\n",
    "!free -h\n",
    "%cd ~\n",
    "!ls -a .bashrc .config .ipython .jupyter .local .ngrok2 .nv .sagemaker .virtual_documents .wget-hsts"
   ]
  },
  {
   "cell_type": "code",
   "execution_count": null,
   "metadata": {
    "id": "tmJatcmiPesW",
    "tags": []
   },
   "outputs": [],
   "source": [
    "# 용량정리 \n",
    "!rm -rf /home/studio-lab-user/.ipynb_checkpoints\n",
    "!rm -rf /home/studio-lab-user/.cache # 캐시삭제 \n",
    "!rm -rf /home/studio-lab-user/.virtual_documents \n",
    "!rm -rf /home/studio-lab-user/.nv \n",
    "# !rm -rf /home/studio-lab-user/.conda #리셋(환경 다시 만들려면 실행) \n",
    "!ls -la /home/studio-lab-user/\n",
    "!df -h"
   ]
  },
  {
   "cell_type": "markdown",
   "metadata": {
    "id": "pBzfMCFQPesO",
    "tags": []
   },
   "source": [
    "#### ***Model, VAE***"
   ]
  },
  {
   "cell_type": "code",
   "execution_count": null,
   "metadata": {
    "id": "SaAJk33ppFw1",
    "tags": []
   },
   "outputs": [],
   "source": [
    "lode_mode=\"aria2c --console-log-level=error -c -x 16 -s 16 -k 1M\"\n",
    "!rm -rf /home/studio-lab-user/.cache #⭐캐시삭제 \n",
    "\n",
    "# Model\n",
    "model_dir=\"/home/studio-lab-user/ui/models/Stable-diffusion\"\n",
    "!rm -rf {model_dir}/* #⭐리셋 \n",
    "# !rm -rf {model_dir}/beautifulRealistic_v60.safetensors #⭐削除したいファイルを入力\n",
    "\n",
    "# SDXL - 리얼 \n",
    "# !{lode_mode} https://civitai.com/api/download/models/157378 -d {model_dir} -o fudukiMix_v15.safetensors\n",
    "!{lode_mode} https://civitai.com/api/download/models/161009 -d {model_dir} -o CherryPickerXL26.safetensors\n",
    "# !{lode_mode} https://civitai.com/api/download/models/167881 -d {model_dir} -o AfterRealXL_beta2.safetensors\n",
    "# !{lode_mode} https://civitai.com/api/download/models/145196 -d {model_dir} -o MiaModel_v3.safetensors\n",
    "# !{lode_mode} https://civitai.com/api/download/models/163192 -d {model_dir} -o XXMix_9realisticSDXL_v1.71.safetensors\n",
    "\n",
    "# SDXL - 애니메이션 \n",
    "# !{lode_mode} https://civitai.com/api/download/models/155870 -d {model_dir} -o sdvn7Nijistylexl_v1.safetensors\n",
    "# !{lode_mode} https://civitai.com/api/download/models/145893 -d {model_dir} -o BreakDomainXL.safetensors\n",
    "\n",
    "# SD2.0 이전 \n",
    "# !{lode_mode} https://civitai.com/api/download/models/119057 -d {model_dir} -o MeinaMix.safetensors\n",
    "# !{lode_mode} https://civitai.com/api/download/models/113479 -d {model_dir} -o beautifulRealistic_v60.safetensors\n",
    "\n",
    "# VAE\n",
    "vae_dir=\"/home/studio-lab-user/ui/models/VAE\"\n",
    "!rm {vae_dir}/* #⭐리셋 \n",
    "!{lode_mode} https://huggingface.co/ckpt/sdxl_vae/resolve/main/sdxl_vae.safetensors -d {vae_dir} -o sdxl_vae.vae.safetensors\n",
    "# !{lode_mode} https://huggingface.co/okozk/custom_models/resolve/main/vae_mse_840000_ema_semi.pt -d {vae_dir} -o vae_mse_840000_ema_semi.vae.pt\n",
    "\n",
    "# 확인 \n",
    "!echo -= model_dir 확인 =- && ls -l {model_dir}\n",
    "!echo -= vae_dir 확인 =- && ls -l {vae_dir}\n",
    "!echo -= 여유공간 확인 =- && df -h"
   ]
  },
  {
   "cell_type": "markdown",
   "metadata": {
    "id": "a2eUKRpxPesR",
    "tags": []
   },
   "source": [
    "#### ***Lora、embedings***"
   ]
  },
  {
   "cell_type": "code",
   "execution_count": null,
   "metadata": {
    "id": "buEhO90kPesS",
    "tags": []
   },
   "outputs": [],
   "source": [
    "lode_mode=\"aria2c --console-log-level=error -c -x 16 -s 16 -k 1M\"\n",
    "!rm -rf /home/studio-lab-user/.cache #⭐캐시삭제 \n",
    "lora_dir=\"/home/studio-lab-user/ui/models/Lora\" \n",
    "embeddings_dir=\"/home/studio-lab-user/ui/embeddings\"\n",
    "\n",
    "# lora ######################################################################\n",
    "!rm -rf {lora_dir}/* #⭐리셋 \n",
    "# !{lode_mode} https://civitai.com/api/download/models/134909 -d {lora_dir} -o japanese-girl-sdxl.safetensors\n",
    "# !{lode_mode} https://civitai.com/api/download/models/121538 -d {lora_dir} -o watercolor-style.safetensors\n",
    "# !{lode_mode} https://civitai.com/api/download/models/136749 -d {lora_dir} -o ChibiStyleXL.safetensors\n",
    "# !{lode_mode} https://civitai.com/api/download/models/138938 -d {lora_dir} -o Linear-Manga-Style.safetensors\n",
    "# !{lode_mode} https://civitai.com/api/download/models/137124 -d {lora_dir} -o DreamART-Style.safetensors\n",
    "# !{lode_mode} https://civitai.com/api/download/models/126807 -d {lora_dir} -o Photorealistic-Slider.safetensors\n",
    "# !{lode_mode} https://civitai.com/api/download/models/127510 -d {lora_dir} -o greg_rutkowski_xl_2.safetensors\n",
    "# !{lode_mode} https://civitai.com/api/download/models/118427 -d {lora_dir} -o perfect-eyes-xl.safetensors\n",
    "!{lode_mode} https://civitai.com/api/download/models/62833 -d {lora_dir} -o detail-tweaker-xl.safetensors\n",
    "\n",
    "# embedings ######################################################################\n",
    "# !rm -rf {embeddings_dir}/* #⭐리셋 \n",
    "# !{lode_mode} https://huggingface.co/okozk/ComfyUI/resolve/main/unaestheticXLv13.safetensors -d {embeddings_dir} -o unaestheticXLv13.safetensors # 아름다움 \n",
    "!{lode_mode} https://civitai.com/api/download/models/134424 -d {embeddings_dir} -o unaestheticX-NegL.safetensors # Flat2처럼 사용 \n",
    "!{lode_mode} https://civitai.com/api/download/models/134583 -d {embeddings_dir} -o negativeXL_D.safetensors # 노출도 네거티브 0.5~0.7정도 \n",
    "!{lode_mode} https://civitai.com/api/download/models/139645 -d {embeddings_dir} -o peopleneg.safetensors # 인간의 부정적인 특징 학습 실사용 \n",
    "!{lode_mode} https://civitai.com/api/download/models/128882 -d {embeddings_dir} -o SimplepositiveXLv1.safetensors # Simple 긍정적인 요소 \n",
    "\n",
    "# 확인 ######################################################################\n",
    "!echo -= lora_dir 확인 =- && ls -l {lora_dir}\n",
    "!echo -= embeddings_dir 확인 =- && ls -l {embeddings_dir}\n",
    "!echo -= 여유공간 확인 =- && df -h"
   ]
  },
  {
   "cell_type": "markdown",
   "metadata": {
    "id": "OMVpsGOsPesS",
    "tags": []
   },
   "source": [
    "#### ***확장기능 설정***"
   ]
  },
  {
   "cell_type": "code",
   "execution_count": null,
   "metadata": {
    "id": "95FfvzMyPesS",
    "tags": []
   },
   "outputs": [],
   "source": [
    "# 각 디렉토리 \n",
    "base_dir=\"/home/studio-lab-user/ui\"\n",
    "extensions_dir = base_dir + \"/extensions\"\n",
    "lode_mode=\"aria2c --console-log-level=error -c -x 16 -s 16 -k 1M\"\n",
    "\n",
    "# 확장기능 추가  ######################################################################\n",
    "!rm -rf {extensions_dir}/* #⭐리셋 \n",
    "\n",
    "#⭐삭제할 파일이력 \n",
    "%cd {extensions_dir}\n",
    "# !rm -rf sd_lama_cleaner controlnet wd14-tagger rembg depth-lib two-shot photopea-embed multidiffusion-upscaler model-toolkit haku-img cutoff Config-Presets  Styles-Editor\n",
    "\n",
    "# 설치 \n",
    "# !git clone https://github.com/camenduru/sd-civitai-browser {extensions_dir}/civitai-browser\n",
    "!git clone https://github.com/AlUlkesh/stable-diffusion-webui-images-browser {extensions_dir}/images-browser\n",
    "!git clone https://github.com/zanllp/sd-webui-infinite-image-browsing {extensions_dir}/infinite-image-browsing\n",
    "!git clone https://github.com/Mikubill/sd-webui-controlnet {extensions_dir}/controlnet\n",
    "!git clone https://github.com/IDEA-Research/DWPose {extensions_dir}/DWPose\n",
    "!git clone https://github.com/anonCantCode/sd-webui-send-to-controlnet {extensions_dir}/send-to-controlnet\n",
    "# !git clone https://github.com/jexom/sd-webui-depth-lib {extensions_dir}/depth-lib\n",
    "!git clone https://github.com/richrobber2/canvas-zoom {extensions_dir}/canvas-zoom\n",
    "!git clone https://github.com/huchenlei/sd-webui-openpose-editor {extensions_dir}/openpose-editor\n",
    "# !git clone https://github.com/fkunn1326/openpose-editor {extensions_dir}/openpose-editor\n",
    "# !git clone https://github.com/hnmr293/posex {extensions_dir}/posex\n",
    "# !git clone https://github.com/nonnonstop/sd-webui-3d-open-pose-editor {extensions_dir}/3d-open-pose-editor\n",
    "# !git clone https://github.com/camenduru/tunnels {extensions_dir}/tunnels\n",
    "# !git clone https://github.com/etherealxx/batchlinks-webui {extensions_dir}/batchlinks-webui\n",
    "# !git clone https://github.com/catppuccin/stable-diffusion-webui {extensions_dir}/catppuccin\n",
    "!git clone https://github.com/Haoming02/sd-webui-prompt-format {extensions_dir}/prompt-format\n",
    "# !git clone https://github.com/eideehi/sd-webui-better-prompt {extensions_dir}/better-prompt\n",
    "!git clone https://github.com/DominikDoom/a1111-sd-webui-tagcomplete {extensions_dir}/tagcomplete\n",
    "# !git clone https://github.com/chrisgoringe/Styles-Editor {extensions_dir}/Styles-Editor\n",
    "# !git clone https://github.com/opparco/stable-diffusion-webui-two-shot {extensions_dir}/two-shot\n",
    "# !git clone https://github.com/bbc-mc/sdweb-clip-changer {extensions_dir}/clip-changer\n",
    "# !git clone https://github.com/hnmr293/sd-webui-cutoff {extensions_dir}/cutoff\n",
    "# !git clone https://github.com/toriato/stable-diffusion-webui-wd14-tagger {extensions_dir}/wd14-tagger\n",
    "!git clone https://github.com/Bing-su/adetailer {extensions_dir}/adetailer\n",
    "# !git clone https://github.com/pkuliyi2015/multidiffusion-upscaler-for-automatic1111 {extensions_dir}/multidiffusion-upscaler\n",
    "!git clone https://github.com/alemelis/sd-webui-ar {extensions_dir}/sd-webui-ar\n",
    "# !git clone https://github.com/Zyin055/Config-Presets {extensions_dir}/Config-Presets\n",
    "# !git clone https://github.com/KohakuBlueleaf/a1111-sd-webui-haku-img  {extensions_dir}/haku-img\n",
    "# !git clone https://github.com/yankooliveira/sd-webui-photopea-embed  {extensions_dir}/photopea-embed\n",
    "# !git clone https://github.com/arenasys/stable-diffusion-webui-model-toolkit {extensions_dir}/model-toolkit\n",
    "# !git clone https://github.com/aka7774/sd_katanuki {extensions_dir}/sd_katanuki\n",
    "# !git clone https://github.com/AUTOMATIC1111/stable-diffusion-webui-rembg {extensions_dir}/rembg\n",
    "!git clone https://github.com/ljleb/sd-webui-freeu {extensions_dir}/freeu\n",
    "# !git clone https://github.com/aka7774/sd_lama_cleaner {extensions_dir}/sd_lama_cleaner\n",
    "\n",
    "\n",
    "# 리셋 \n",
    "!git -C /home/studio-lab-user/ui/extensions reset --hard\n",
    "!git -C /home/studio-lab-user/ui/repositories/stable-diffusion-stability-ai reset --hard\n",
    "\n",
    "# %cd {extensions_dir}/prompt-all-in-one\n",
    "# !git checkout a46e7f24a9aa4817a6fe81647aa2c85be096f72b\n",
    "\n",
    "# sd-webui-ar의 확장기능에 SDXL권장크기 쓰기 \n",
    "%cd {extensions_dir}\n",
    "f = open(\"/home/studio-lab-user/ui/extensions/sd-webui-ar/resolutions.txt\", \"w\")\n",
    "text = \"\"\"1, 1024, 1024 # 1:1 Square\n",
    "2, 886, 1182 # 3:4 Photo\n",
    "3, 836, 1254 # 2:3 Landscape\n",
    "4, 768, 1344 # 9:16 Vertical\"\"\"\n",
    "f.write(text)\n",
    "f.close()\n",
    "\n",
    "# wd14-tagger오류대책（커밋 → 99bf7d8132cb757edbcdfaad654f31f32f3500a5）\n",
    "# !sed -i -e 's/from webui import wrap_gradio_gpu_call/from modules.call_queue import wrap_gradio_gpu_call/g' /home/studio-lab-user/ui/extensions/wd14-tagger/tagger/ui.py\n",
    "# !sed -i -e 's/from modules.shared import models_path/import argparse\\nimport os\\n\\nmodules_path = os.path.dirname(os.path.realpath(__file__))\\n\\nparser_pre = argparse.ArgumentParser(add_help=False)\\nparser_pre.add_argument(\"--data-dir\", type=str, default=os.path.dirname(modules_path), help=\"base path where all user data is stored\", )\\ncmd_opts_pre = parser_pre.parse_known_args()[0]\\ndata_path = cmd_opts_pre.data_dir\\n\\nmodels_path = os.path.join(data_path, \"models\")/g' /home/studio-lab-user/ui/extensions/wd14-tagger/preload.py\n",
    "\n",
    "# 확인 ######################################################################\n",
    "!echo -= extensions_dir 확인 =- && ls -l {extensions_dir}\n",
    "!echo -= 여유공간확인 =- && df -h"
   ]
  },
  {
   "cell_type": "markdown",
   "metadata": {
    "id": "OMVpsGOsPesS",
    "tags": []
   },
   "source": [
    "#### ***ControlNet Models 설치 ***"
   ]
  },
  {
   "cell_type": "code",
   "execution_count": null,
   "metadata": {
    "tags": []
   },
   "outputs": [],
   "source": [
    "# 각 디렉토리 \n",
    "base_dir=\"/home/studio-lab-user/ui\"\n",
    "ctn_model_dir = base_dir + \"/models/ControlNet\"\n",
    "lode_mode=\"aria2c --console-log-level=error -c -x 16 -s 16 -k 1M\"\n",
    "\n",
    "# SDXL지원버전 ControlNet모델추가  ######################################################################\n",
    "!rm -rf {ctn_model_dir}/* #⭐리셋 \n",
    "#⭐삭제할 파일입력\n",
    "%cd {ctn_model_dir}\n",
    "# !rm -rf ip-adapter_xl.pth t2i-adapter_diffusers_xl_lineart.safetensors control-lora-canny-rank256.safetensors ip-adapter_xl.pth\n",
    "# 설치 \n",
    "!{lode_mode} https://huggingface.co/ckpt/controlnet-sdxl-1.0/resolve/main/control-lora-canny-rank256.safetensors -d {ctn_model_dir} -o control-lora-canny-rank256.safetensors\n",
    "# !{lode_mode} https://huggingface.co/ckpt/controlnet-sdxl-1.0/resolve/main/control-lora-depth-rank256.safetensors -d {ctn_model_dir} -o control-lora-depth-rank256.safetensors\n",
    "# !{lode_mode} https://huggingface.co/ckpt/controlnet-sdxl-1.0/resolve/main/control-lora-recolor-rank256.safetensors -d {ctn_model_dir} -o control-lora-recolor-rank256.safetensors\n",
    "# !{lode_mode} https://huggingface.co/ckpt/controlnet-sdxl-1.0/resolve/main/control-lora-sketch-rank256.safetensors -d {ctn_model_dir} -o control-lora-sketch-rank256.safetensors\n",
    "!{lode_mode} https://huggingface.co/lllyasviel/sd_control_collection/resolve/main/thibaud_xl_openpose_256lora.safetensors -d {ctn_model_dir} -o thibaud_xl_openpose_256lora.safetensors\n",
    "# !{lode_mode} https://huggingface.co/lllyasviel/sd_control_collection/resolve/main/ip-adapter_xl.pth -d {ctn_model_dir} -o ip-adapter_xl.pth\n",
    "# !{lode_mode} https://huggingface.co/lllyasviel/sd_control_collection/resolve/main/sargezt_xl_softedge.safetensors -d {ctn_model_dir} -o sargezt_xl_softedge.safetensors #2.5GB\n",
    "\n",
    "# 확인  ######################################################################\n",
    "!echo -= ctn_model_dir 확인 =- && ls -l {ctn_model_dir}\n",
    "!echo -= 여유공간 확인 =- && df -h"
   ]
  }
 ],
 "metadata": {
  "accelerator": "GPU",
  "colab": {
   "private_outputs": true,
   "provenance": []
  },
  "gpuClass": "standard",
  "kernelspec": {
   "display_name": ".conda-sd_env:Python",
   "language": "python",
   "name": "conda-env-.conda-sd_env-py"
  },
  "language_info": {
   "codemirror_mode": {
    "name": "ipython",
    "version": 3
   },
   "file_extension": ".py",
   "mimetype": "text/x-python",
   "name": "python",
   "nbconvert_exporter": "python",
   "pygments_lexer": "ipython3",
   "version": "3.10.6"
  },
  "vscode": {
   "interpreter": {
    "hash": "e593ac106456af50ce7af38f9671c411b49d6cd90f9b885e167f0f594e09038c"
   }
  }
 },
 "nbformat": 4,
 "nbformat_minor": 4
}
