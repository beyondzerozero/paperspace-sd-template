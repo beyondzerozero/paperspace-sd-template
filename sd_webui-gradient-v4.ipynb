{
 "cells": [
  {
   "cell_type": "markdown",
   "metadata": {},
   "source": [
    "# 환경구축 및 최초 실행(머신 시작시마다 실행)"
   ]
  },
  {
   "cell_type": "code",
   "execution_count": 3,
   "metadata": {
    "execution": {
     "iopub.execute_input": "2024-07-03T12:00:45.455171Z",
     "iopub.status.busy": "2024-07-03T12:00:45.454456Z",
     "iopub.status.idle": "2024-07-03T12:01:04.012762Z",
     "shell.execute_reply": "2024-07-03T12:01:04.011958Z",
     "shell.execute_reply.started": "2024-07-03T12:00:45.455138Z"
    },
    "id": "qfGtMLwLpCr3",
    "tags": []
   },
   "outputs": [
    {
     "name": "stdout",
     "output_type": "stream",
     "text": [
      "Get:1 file:/var/cuda-repo-ubuntu2204-12-0-local  InRelease [1575 B]\n",
      "Get:1 file:/var/cuda-repo-ubuntu2204-12-0-local  InRelease [1575 B]\n",
      "Hit:2 http://security.ubuntu.com/ubuntu jammy-security InRelease\n",
      "Hit:3 https://developer.download.nvidia.com/compute/cuda/repos/ubuntu2204/x86_64  InRelease\n",
      "Hit:4 https://deb.nodesource.com/node_20.x nodistro InRelease\n",
      "Hit:5 http://archive.ubuntu.com/ubuntu jammy InRelease\n",
      "Hit:6 http://archive.ubuntu.com/ubuntu jammy-updates InRelease\n",
      "Hit:7 http://archive.ubuntu.com/ubuntu jammy-backports InRelease\n",
      "Hit:8 https://packagecloud.io/github/git-lfs/ubuntu jammy InRelease\n",
      "Hit:9 https://ppa.launchpadcontent.net/deadsnakes/ppa/ubuntu jammy InRelease\n",
      "Reading package lists...\n",
      "Building dependency tree...\n",
      "Reading state information...\n",
      "184 packages can be upgraded. Run 'apt list --upgradable' to see them.\n",
      "\u001b[1;33mW: \u001b[0mhttps://developer.download.nvidia.com/compute/cuda/repos/ubuntu2204/x86_64/InRelease: Key is stored in legacy trusted.gpg keyring (/etc/apt/trusted.gpg), see the DEPRECATION section in apt-key(8) for details.\u001b[0m\n",
      "Reading package lists...\n",
      "Building dependency tree...\n",
      "Reading state information...\n",
      "python3.10 is already the newest version (3.10.12-1~22.04.3).\n",
      "0 upgraded, 0 newly installed, 0 to remove and 184 not upgraded.\n",
      "Reading package lists...\n",
      "Building dependency tree...\n",
      "Reading state information...\n",
      "build-essential is already the newest version (12.9ubuntu3).\n",
      "aria2 is already the newest version (1.36.0-1).\n",
      "libpython3.10-dev is already the newest version (3.10.12-1~22.04.3).\n",
      "0 upgraded, 0 newly installed, 0 to remove and 184 not upgraded.\n",
      "Collecting pip\n",
      "  Using cached pip-24.1.1-py3-none-any.whl.metadata (3.6 kB)\n",
      "Using cached pip-24.1.1-py3-none-any.whl (1.8 MB)\n",
      "Installing collected packages: pip\n",
      "  Attempting uninstall: pip\n",
      "    Found existing installation: pip 24.1.1\n",
      "    Uninstalling pip-24.1.1:\n",
      "      Successfully uninstalled pip-24.1.1\n",
      "Successfully installed pip-24.1.1\n",
      "\u001b[33mWARNING: Running pip as the 'root' user can result in broken permissions and conflicting behaviour with the system package manager, possibly rendering your system unusable.It is recommended to use a virtual environment instead: https://pip.pypa.io/warnings/venv. Use the --root-user-action option if you know what you are doing and want to suppress this warning.\u001b[0m\u001b[33m\n",
      "\u001b[0m\u001b[33mWARNING: Running pip as the 'root' user can result in broken permissions and conflicting behaviour with the system package manager, possibly rendering your system unusable.It is recommended to use a virtual environment instead: https://pip.pypa.io/warnings/venv. Use the --root-user-action option if you know what you are doing and want to suppress this warning.\u001b[0m\u001b[33m\n",
      "\u001b[0m\u001b[33mWARNING: Running pip as the 'root' user can result in broken permissions and conflicting behaviour with the system package manager, possibly rendering your system unusable.It is recommended to use a virtual environment instead: https://pip.pypa.io/warnings/venv. Use the --root-user-action option if you know what you are doing and want to suppress this warning.\u001b[0m\u001b[33m\n",
      "\u001b[0m\u001b[33mWARNING: Running pip as the 'root' user can result in broken permissions and conflicting behaviour with the system package manager, possibly rendering your system unusable.It is recommended to use a virtual environment instead: https://pip.pypa.io/warnings/venv. Use the --root-user-action option if you know what you are doing and want to suppress this warning.\u001b[0m\u001b[33m\n",
      "\u001b[0m\u001b[33mWARNING: Running pip as the 'root' user can result in broken permissions and conflicting behaviour with the system package manager, possibly rendering your system unusable.It is recommended to use a virtual environment instead: https://pip.pypa.io/warnings/venv. Use the --root-user-action option if you know what you are doing and want to suppress this warning.\u001b[0m\u001b[33m\n",
      "\u001b[0m\u001b[33mWARNING: Running pip as the 'root' user can result in broken permissions and conflicting behaviour with the system package manager, possibly rendering your system unusable.It is recommended to use a virtual environment instead: https://pip.pypa.io/warnings/venv. Use the --root-user-action option if you know what you are doing and want to suppress this warning.\u001b[0m\u001b[33m\n",
      "\u001b[0m\u001b[33mWARNING: Running pip as the 'root' user can result in broken permissions and conflicting behaviour with the system package manager, possibly rendering your system unusable.It is recommended to use a virtual environment instead: https://pip.pypa.io/warnings/venv. Use the --root-user-action option if you know what you are doing and want to suppress this warning.\u001b[0m\u001b[33m\n",
      "\u001b[0m/notebooks/ui\n",
      "Python 3.10.12 (main, Nov 20 2023, 15:14:05) [GCC 11.4.0]\n",
      "Version: v1.6.0\n",
      "Commit hash: 5ef669de080814067961f28357256e8fe27544f4\n",
      "Traceback (most recent call last):\n",
      "  File \"/notebooks/ui/launch.py\", line 48, in <module>\n",
      "    main()\n",
      "  File \"/notebooks/ui/launch.py\", line 39, in main\n",
      "    prepare_environment()\n",
      "  File \"/notebooks/ui/modules/launch_utils.py\", line 356, in prepare_environment\n",
      "    raise RuntimeError(\n",
      "RuntimeError: Torch is not able to use GPU; add --skip-torch-cuda-test to COMMANDLINE_ARGS variable to disable this check\n"
     ]
    }
   ],
   "source": [
    "# 필요한 파일 설치\n",
    "!apt -q update\n",
    "!apt -yq install python3.10\n",
    "!apt -yq install libpython3.10-dev build-essential aria2\n",
    "!curl -sS https://bootstrap.pypa.io/get-pip.py | python3.10\n",
    "!python3.10 -m pip install -q torch==2.0.0+cu118 torchvision==0.15.1+cu118 torchaudio==2.0.1+cu118 torchtext==0.15.1 torchdata==0.6.0 --extra-index-url https://download.pytorch.org/whl/cu118 -U\n",
    "!python3.10 -m pip install -q xformers==0.0.18 triton==2.0.0 -U\n",
    "!python3.10 -m pip install -q httpx==0.24.1 -U\n",
    "!python3.10 -m pip install -q matplotlib -U\n",
    "!python3.10 -m pip install -q ipython -U\n",
    "!python3.10 -m pip install -q pickleshare -U\n",
    "\n",
    "import os\n",
    "import glob\n",
    "from IPython import get_ipython\n",
    "\n",
    "# 그래프그리기 라이브러리를 인라인으로 표시하는 설정 \n",
    "get_ipython().run_line_magic('matplotlib', 'inline')\n",
    "\n",
    "# Stable Diffusion WebUI의 리포지티로리가 없으면 복제 \n",
    "if not os.path.isdir(\"/notebooks/ui\"):\n",
    "    %cd /notebooks\n",
    "    !git clone https://github.com/AUTOMATIC1111/stable-diffusion-webui /notebooks/ui\n",
    "    # Stable Diffusion WebUI の v1.6.0을 사용함 \n",
    "    %cd /notebooks/ui\n",
    "    !git checkout master\n",
    "    !git checkout 5ef669de080814067961f28357256e8fe27544f4\n",
    "\n",
    "# Model이 없는 경우 다운로드 \n",
    "if not glob.glob(\"/notebooks/ui/models/Stable-diffusion/*.safetensors\"):\n",
    "    os.system(\"aria2c --console-log-level=error -c -x 16 -s 16 -k 1M https://huggingface.co/bluepen5805/blue_pencil-XL/resolve/main/blue_pencil-XL-v0.8.0.safetensors -d /notebooks/ui/models/Stable-diffusion -o blue_pencil-XL-v0.8.0.safetensors\")\n",
    "\n",
    "# 설정변경 \n",
    "%cd /notebooks/ui\n",
    "!sed -i -e 's/\\[\"sd_model_checkpoint\"\\]/\\[\"sd_model_checkpoint\",\"sd_vae\",\"CLIP_stop_at_last_layers\"\\]/g' /notebooks/ui/modules/shared_options.py\n",
    "\n",
    "# SDXL용 UI 편집\n",
    "if os.path.exists(\"/notebooks/ui/ui-config.json\"):\n",
    "    !sed -i -e 's/value\": 512/value\": 1024/g' /notebooks/ui/ui-config.json\n",
    "    !sed -i -e 's/Grid margins (px)\\/value\": 0/Grid margins (px)\\/value\": 5/g' /notebooks/ui/ui-config.json\n",
    "\n",
    "if os.path.exists(\"/notebooks/ui/config.json\"):\n",
    "    !sed -i -e 's/\"\\[date\\]\"/\"\\[date\\]-\\[model_name\\]\"/g' /notebooks/ui/config.json\n",
    "\n",
    "# Stable Diffusion WebUI 실행 \n",
    "!python3.10 launch.py --xformers --enable-insecure-extension-access --share --gradio-queue --no-half-vae"
   ]
  },
  {
   "cell_type": "markdown",
   "metadata": {
    "execution": {
     "iopub.execute_input": "2023-10-18T14:09:04.897523Z",
     "iopub.status.busy": "2023-10-18T14:09:04.897039Z",
     "iopub.status.idle": "2023-10-18T14:09:04.900148Z",
     "shell.execute_reply": "2023-10-18T14:09:04.899647Z",
     "shell.execute_reply.started": "2023-10-18T14:09:04.897501Z"
    }
   },
   "source": [
    "# ⭐ 최초 시작 이외의 실행"
   ]
  },
  {
   "cell_type": "code",
   "execution_count": 2,
   "metadata": {
    "execution": {
     "iopub.execute_input": "2024-07-03T12:00:17.338903Z",
     "iopub.status.busy": "2024-07-03T12:00:17.338433Z",
     "iopub.status.idle": "2024-07-03T12:00:19.484839Z",
     "shell.execute_reply": "2024-07-03T12:00:19.483871Z",
     "shell.execute_reply.started": "2024-07-03T12:00:17.338877Z"
    }
   },
   "outputs": [
    {
     "name": "stdout",
     "output_type": "stream",
     "text": [
      "/notebooks/ui\n",
      "Python 3.10.12 (main, Nov 20 2023, 15:14:05) [GCC 11.4.0]\n",
      "Version: v1.6.0\n",
      "Commit hash: 5ef669de080814067961f28357256e8fe27544f4\n",
      "Traceback (most recent call last):\n",
      "  File \"/notebooks/ui/launch.py\", line 48, in <module>\n",
      "    main()\n",
      "  File \"/notebooks/ui/launch.py\", line 39, in main\n",
      "    prepare_environment()\n",
      "  File \"/notebooks/ui/modules/launch_utils.py\", line 356, in prepare_environment\n",
      "    raise RuntimeError(\n",
      "RuntimeError: Torch is not able to use GPU; add --skip-torch-cuda-test to COMMANDLINE_ARGS variable to disable this check\n"
     ]
    }
   ],
   "source": [
    "# SDXL용 UI편집\n",
    "if os.path.exists(\"/notebooks/ui/ui-config.json\"):\n",
    "    !sed -i -e 's/value\": 512/value\": 1024/g' /notebooks/ui/ui-config.json\n",
    "    !sed -i -e 's/Grid margins (px)\\/value\": 0/Grid margins (px)\\/value\": 5/g' /notebooks/ui/ui-config.json\n",
    "    \n",
    "if os.path.exists(\"/notebooks/ui/config.json\"):\n",
    "    !sed -i -e 's/\"\\[date\\]\"/\"\\[date\\]-\\[model_name\\]\"/g' /notebooks/ui/config.json\n",
    "    \n",
    "# Stable Diffusion WebUI 실행 \n",
    "%cd /notebooks/ui\n",
    "!python3.10 launch.py --xformers --enable-insecure-extension-access --share --gradio-queue --no-half-vae --skip-version-check"
   ]
  },
  {
   "cell_type": "markdown",
   "metadata": {
    "tags": []
   },
   "source": [
    "# Model 다운로드 "
   ]
  },
  {
   "cell_type": "code",
   "execution_count": null,
   "metadata": {
    "id": "rIUmi3RhpQiW"
   },
   "outputs": [],
   "source": [
    "\"\"\"\n",
    "다운로드하지 않는 것은 주석처리한다.\n",
    "주석처리 방법: #을 사용하여 주석처리한다.\n",
    "\"\"\"\n",
    "\n",
    "# 다운로드 방법 정의 \n",
    "ARIA2=\"aria2c --console-log-level=error -c -x 16 -s 16 -k 1M\"\n",
    "# Model 디렉토리 정의 \n",
    "MODEL_DIR=\"/notebooks/ui/models/Stable-diffusion\"\n",
    "!rm -rf {MODEL_DIR}/* #학습모델 모두 삭제(리셋) 함 \n",
    "\n",
    "# blue_pencil　\n",
    "!{ARIA2} https://huggingface.co/bluepen5805/blue_pencil-XL/resolve/main/blue_pencil-XL-v0.8.0.safetensors -d {MODEL_DIR} -o blue_pencil-XL-v0.8.0.safetensors\n",
    "\n",
    "# sdvn7Nijistylexl_v1\n",
    "# !{ARIA2} https://civitai.com/api/download/models/155870 -d {MODEL_DIR} -o sdvn7Nijistylexl_v1.safetensors\n",
    "\n",
    "# CherryPickerXL26　\n",
    "# !{ARIA2} https://civitai.com/api/download/models/173768 -d {MODEL_DIR} -o CherryPickerXL26.safetensors\n",
    "\n",
    "# Refiner\n",
    "# !{ARIA2} https://huggingface.co/stabilityai/stable-diffusion-xl-refiner-1.0/resolve/main/sd_xl_refiner_1.0.safetensors -d {MODEL_DIR} -o sd_xl_refiner_1.0.safetensors"
   ]
  },
  {
   "cell_type": "markdown",
   "metadata": {
    "tags": []
   },
   "source": [
    "# LoRA, Embedings 다운로드 "
   ]
  },
  {
   "cell_type": "code",
   "execution_count": null,
   "metadata": {},
   "outputs": [],
   "source": [
    "\"\"\"\n",
    "다운로드하지 않는 것은 주석처리한다.\n",
    "주석처리 방법: #을 사용하여 주석처리한다.\n",
    "\"\"\"\n",
    "\n",
    "# 다운로드 방법 정의 \n",
    "ARIA2=\"aria2c --console-log-level=error -c -x 16 -s 16 -k 1M\"\n",
    "# LoRA 디렉토리 정의 \n",
    "LORA_DIR=\"/notebooks/ui/models/Lora\" \n",
    "# Embedings 디렉토리 정의 \n",
    "EMBEDDINGS_DIR=\"/notebooks/ui/embeddings\"\n",
    "\n",
    "\n",
    "# LoRA 다운로드 ######################################################################\n",
    "!rm -rf {LORA_DIR}/*  #LoRA를 모두 삭제(리셋) 함\n",
    "!{ARIA2} https://civitai.com/api/download/models/155932 -d {LORA_DIR} -o ClearHand-V2.safetensors\n",
    "# !{ARIA2} https://civitai.com/api/download/models/62833 -d {LORA_DIR} -o detail-tweaker-xl.safetensors\n",
    "\n",
    "\n",
    "# Embedings 다운로드 ######################################################################\n",
    "!rm -rf {EMBEDDINGS_DIR}/*  #Embedings를 모두 삭제(리셋) 함\n",
    "!{ARIA2} https://civitai.com/api/download/models/175819 -d {EMBEDDINGS_DIR} -o unaestheticXL_Sky3.1.safetensors\n",
    "!{ARIA2} https://civitai.com/api/download/models/162146 -d {EMBEDDINGS_DIR} -o unaestheticXL_AYv1.safetensors\n",
    "!{ARIA2} https://civitai.com/api/download/models/149308 -d {EMBEDDINGS_DIR} -o unaestheticXLv31.safetensors"
   ]
  },
  {
   "cell_type": "markdown",
   "metadata": {
    "tags": []
   },
   "source": [
    "# 확장 프로그램 설치"
   ]
  },
  {
   "cell_type": "code",
   "execution_count": null,
   "metadata": {},
   "outputs": [],
   "source": [
    "\"\"\"\n",
    "다운로드하지 않는 것은 주석처리한다.\n",
    "주석처리 방법: #을 사용하여 주석처리한다.\n",
    "\"\"\"\n",
    "\n",
    "# 확장기능 디렉토리 정의\n",
    "EXTENSIONS_DIR = \"/notebooks/ui/extensions\"\n",
    "\n",
    "# 확장프로그램 설치 \n",
    "!git clone https://github.com/AlUlkesh/stable-diffusion-webui-images-browser {EXTENSIONS_DIR}/images-browser\n",
    "!git clone https://github.com/zanllp/sd-webui-infinite-image-browsing {EXTENSIONS_DIR}/infinite-image-browsing\n",
    "!git clone https://github.com/Haoming02/sd-webui-prompt-format {EXTENSIONS_DIR}/prompt-format\n",
    "!git clone https://github.com/DominikDoom/a1111-sd-webui-tagcomplete {EXTENSIONS_DIR}/tagcomplete\n",
    "!git clone https://github.com/toriato/stable-diffusion-webui-wd14-tagger {EXTENSIONS_DIR}/wd14-tagger\n",
    "!git clone https://github.com/Physton/sd-webui-prompt-all-in-one {EXTENSIONS_DIR}/prompt-all-in-one\n",
    "!git clone https://github.com/Bing-su/adetailer {EXTENSIONS_DIR}/adetailer\n",
    "!git clone https://github.com/Mikubill/sd-webui-controlnet {EXTENSIONS_DIR}/sd-webui-controlnet\n",
    "!git clone https://github.com/anonCantCode/sd-webui-send-to-controlnet {EXTENSIONS_DIR}/send-to-controlnet\n",
    "!git clone https://github.com/jexom/sd-webui-depth-lib {EXTENSIONS_DIR}/depth-lib\n",
    "!git clone https://github.com/IDEA-Research/DWPose {EXTENSIONS_DIR}/DWPose\n",
    "!git clone https://github.com/huchenlei/sd-webui-openpose-editor {EXTENSIONS_DIR}/openpose-editor\n",
    "!git clone https://github.com/ljleb/sd-webui-freeu {EXTENSIONS_DIR}/freeu\n",
    "!git clone https://github.com/alemelis/sd-webui-ar {EXTENSIONS_DIR}/sd-webui-ar\n",
    "!git clone https://github.com/yankooliveira/sd-webui-photopea-embed  {EXTENSIONS_DIR}/photopea-embed\n",
    "!git clone https://github.com/AUTOMATIC1111/stable-diffusion-webui-rembg {EXTENSIONS_DIR}/rembg\n",
    "# !git clone https://github.com/aka7774/sd_katanuki {EXTENSIONS_DIR}/sd_katanuki\n",
    "# !git clone https://github.com/AlUlkesh/sd_save_intermediate_images {EXTENSIONS_DIR}/sd_save_intermediate_images\n",
    "\n",
    "# wd14-tagger 오류 대책（커밋 → 99bf7d8132cb757edbcdfaad654f31f32f3500a5）\n",
    "!sed -i -e 's/from webui import wrap_gradio_gpu_call/from modules.call_queue import wrap_gradio_gpu_call/g' /notebooks/ui/extensions/wd14-tagger/tagger/ui.py\n",
    "!sed -i -e 's/from modules.shared import models_path/import argparse\\nimport os\\n\\nmodules_path = os.path.dirname(os.path.realpath(__file__))\\n\\nparser_pre = argparse.ArgumentParser(add_help=False)\\nparser_pre.add_argument(\"--data-dir\", type=str, default=os.path.dirname(modules_path), help=\"base path where all user data is stored\", )\\ncmd_opts_pre = parser_pre.parse_known_args()[0]\\ndata_path = cmd_opts_pre.data_dir\\n\\nmodels_path = os.path.join(data_path, \"models\")/g' /notebooks/ui/extensions/wd14-tagger/preload.py\n",
    "\n",
    "# sd-webui-ar 확장에 SDXL권장 크기 쓰기\n",
    "f = open(\"/notebooks/ui/extensions/sd-webui-ar/resolutions.txt\", \"w\")\n",
    "text = \"\"\"SDv2, 512, 512 # SDXL以前のサイズ\n",
    "SDXL 1:1, 1024, 1024 # Square\n",
    "SDXL 2:3, 836, 1254 # Landscape\n",
    "SDXL 3:4, 886, 1182 # Photo\n",
    "SDXL 9:16, 768, 1344 # Vertical\"\"\"\n",
    "f.write(text)\n",
    "f.close()"
   ]
  },
  {
   "cell_type": "markdown",
   "metadata": {
    "tags": []
   },
   "source": [
    "# SDXL용 ControlNet Model, ADetailer Model 다운로드 "
   ]
  },
  {
   "cell_type": "code",
   "execution_count": null,
   "metadata": {},
   "outputs": [],
   "source": [
    "\"\"\"\n",
    "다운로드하지 않는 것은 주석처리한다.\n",
    "주석처리 방법: #을 사용하여 주석처리한다.\n",
    "\"\"\"\n",
    "\n",
    "# 다운로드 방법 정의 \n",
    "ARIA2=\"aria2c --console-log-level=error -c -x 16 -s 16 -k 1M\"\n",
    "# Hugging Face의 ControlNet Model 공통 다운로드 URL 정의함 \n",
    "HF_CTN_URL=\"https://huggingface.co/lllyasviel/sd_control_collection/resolve/main\"\n",
    "\n",
    "\n",
    "# ControlNet Model 다운로드 ---------------------------------------------------\n",
    "CTN_MODEL_DIR = \"/notebooks/ui/models/ControlNet\"\n",
    "!rm -rf {CTN_MODEL_DIR}/* #ControlNet Model 모두 삭제 (리셋)\n",
    "\n",
    "# Canny\n",
    "# !{ARIA2} {HF_CTN_URL}/sai_xl_canny_256lora.safetensors -d {CTN_MODEL_DIR} -o sai_xl_canny_256lora.safetensors #774 MB\n",
    "# !{ARIA2} {HF_CTN_URL}/sai_xl_canny_128lora.safetensors -d {CTN_MODEL_DIR} -o sai_xl_canny_128lora.safetensors #396 MB\n",
    "# !{ARIA2} {HF_CTN_URL}/kohya_controllllite_xl_canny.safetensors -d {CTN_MODEL_DIR} -o kohya_controllllite_xl_canny.safetensors #46.2 MB\n",
    "\n",
    "# Depth\n",
    "# !{ARIA2} {HF_CTN_URL}/sai_xl_depth_256lora.safetensors -d {CTN_MODEL_DIR} -o sai_xl_depth_256lora.safetensors #774 MB\n",
    "# !{ARIA2} {HF_CTN_URL}/sai_xl_depth_128lora.safetensors -d {CTN_MODEL_DIR} -o sai_xl_depth_128lora.safetensors #396 MB\n",
    "!{ARIA2} {HF_CTN_URL}/kohya_controllllite_xl_depth.safetensors -d {CTN_MODEL_DIR} -o kohya_controllllite_xl_depth.safetensors #46.2 MB\n",
    "\n",
    "# Openpose\n",
    "# !{ARIA2} {HF_CTN_URL}/thibaud_xl_openpose_256lora.safetensors -d {CTN_MODEL_DIR} -o thibaud_xl_openpose_256lora.safetensors #774 MB\n",
    "!{ARIA2} {HF_CTN_URL}/kohya_controllllite_xl_openpose_anime_v2.safetensors -d {CTN_MODEL_DIR} -o kohya_controllllite_xl_openpose_anime_v2.safetensors #46.2 MB\n",
    "\n",
    "# Lineart\n",
    "!{ARIA2} {HF_CTN_URL}/t2i-adapter_diffusers_xl_lineart.safetensors -d {CTN_MODEL_DIR} -o t2i-adapter_diffusers_xl_lineart.safetensors #158 MB\n",
    "\n",
    "# Softedge\n",
    "# !{ARIA2} {HF_CTN_URL}/sargezt_xl_softedge.safetensors -d {CTN_MODEL_DIR} -o sargezt_xl_softedge.safetensors #2.5 GB\n",
    "\n",
    "# Scribble\n",
    "# !{ARIA2} {HF_CTN_URL}/kohya_controllllite_xl_scribble_anime.safetensors -d {CTN_MODEL_DIR} -o kohya_controllllite_xl_scribble_anime.safetensors #46.2 MB\n",
    "\n",
    "# Sketch\n",
    "# !{ARIA2} {HF_CTN_URL}/sai_xl_sketch_256lora.safetensors -d {CTN_MODEL_DIR} -o sai_xl_sketch_256lora.safetensors #774 MB\n",
    "# !{ARIA2} {HF_CTN_URL}/sai_xl_sketch_128lora.safetensors -d {CTN_MODEL_DIR} -o sai_xl_sketch_128lora.safetensors #396 MB\n",
    "\n",
    "# Segmentaion\n",
    "# !{ARIA2} https://civitai.com/api/download/models/154866 -d {CTN_MODEL_DIR} -o Segmentaion.safetensors #84.3 MB\n",
    "\n",
    "# Recolor\n",
    "# !{ARIA2} {HF_CTN_URL}/sai_xl_recolor_256lora.safetensors -d {CTN_MODEL_DIR} -o sai_xl_recolor_256lora.safetensors #774 MB\n",
    "# !{ARIA2} {HF_CTN_URL}/sai_xl_recolor_128lora.safetensors -d {CTN_MODEL_DIR} -o sai_xl_recolor_128lora.safetensors #396 MB\n",
    "\n",
    "# ip-adapter\n",
    "# !{ARIA2} {HF_CTN_URL}/ip-adapter_xl.pth -d {CTN_MODEL_DIR} -o ip-adapter_xl.pth #703 MB\n",
    "!{ARIA2} https://civitai.com/api/download/models/155532 -d {CTN_MODEL_DIR} -o h94-ip-adapter-xl.pth #670 MB\n",
    "\n",
    "# Blur\n",
    "!{ARIA2} {HF_CTN_URL}/kohya_controllllite_xl_blur.safetensors -d {CTN_MODEL_DIR} -o kohya_controllllite_xl_blur.safetensors #46.2 MB\n",
    "# !{ARIA2} {HF_CTN_URL}/kohya_controllllite_xl_blur_anime.safetensors -d {CTN_MODEL_DIR} -o kohya_controllllite_xl_blur_anime.safetensors #46.2 MB\n",
    "\n",
    "\n",
    "# ip-adapter, revision 다운로드 파일 ---------------------------------------------------\n",
    "CTN_DOWNLOADS = \"/notebooks/ui/extensions/sd-webui-controlnet/annotator/downloads\"\n",
    "!rm -fr {CTN_DOWNLOADS}/* #ControlNet 모든 다운로드 파일 삭제 (리셋)\n",
    "# !{ARIA2} https://huggingface.co/lllyasviel/Annotators/resolve/main/clip_g.pth -d {CTN_DOWNLOADS}/clip_vision -o clip_g.pth #3.44 GB\n",
    "\n",
    "\n",
    "# ADetailer Model 추가 폴더  ---------------------------------------------------\n",
    "ADETAILER_MODEL_DIR = \"/notebooks/ui/models/adetailer\"\n",
    "!rm -fr {ADETAILER_MODEL_DIR}/* #ADetailer Model 모두 삭제 (리셋)\n",
    "!{ARIA2} https://huggingface.co/Bingsu/adetailer/resolve/main/hand_yolov8s.pt -d {ADETAILER_MODEL_DIR} -o hand_yolov8s.pt"
   ]
  },
  {
   "cell_type": "markdown",
   "metadata": {},
   "source": [
    "# 이미지 생성결과를 ZIP으로 만들기 "
   ]
  },
  {
   "cell_type": "code",
   "execution_count": null,
   "metadata": {},
   "outputs": [],
   "source": [
    "\"\"\"\n",
    "이미지 생성결과를 7ZIP 형식으로 압축한다. \n",
    "압축된 파일은 업데이트 버튼을 누르면 표시된다. \n",
    "이미지 생성된 파일은 'bak'폴더로 이동된다. \n",
    "\"\"\"\n",
    "\n",
    "%cd /notebooks\n",
    "!apt install -y p7zip-full\n",
    "\n",
    "import os\n",
    "import glob\n",
    "import datetime\n",
    "import shutil\n",
    "\n",
    "# 오늘일자 받기 \n",
    "today = datetime.datetime.now().strftime(\"%Y%m%d_%H%M%S\")\n",
    "\n",
    "# 압축할 이미지 폴더명 \n",
    "folders = [\"txt2img-images\", \"txt2img-grids\", \"img2img-images\", \"img2img-grids\", \"extras-images\"]\n",
    "\n",
    "# 이미지 폴더를 이동하고 압축하는 기능 \n",
    "def compress_images(folders):\n",
    "    # 이동 경로 \n",
    "    destination = f\"/notebooks/bak/outputs-{today}\"\n",
    "    # 압축대상경로 \n",
    "    archive = f\"outputs-{today}.7z\"\n",
    "    # 이동대상폴더 생성 \n",
    "    os.makedirs(destination, exist_ok=True)\n",
    "    # 각 폴더에 대해 처리 \n",
    "    for folder in folders:\n",
    "        # 이동경로 \n",
    "        source = f\"/notebooks/ui/outputs/{folder}\"\n",
    "        source_folder = f\"{destination}/{folder}\"\n",
    "        # 이동경로에 이미지가 있으면 \n",
    "        if os.listdir(source):\n",
    "            os.makedirs(source_folder, exist_ok=True)\n",
    "            # 이미지 이동위치로 이동 \n",
    "            for file in glob.glob(f\"{source}/*\"):\n",
    "                shutil.move(file, source_folder)\n",
    "            print(\"⭐-------------------------------------------⭐\\n  실행 → \", source)\n",
    "    # 이동 대상 폴더 압축 \n",
    "    !7z a -t7z -m0=lzma2 -mx=9 -mfb=64 -md=32m -ms=on \"{archive}\" \"{destination}\"\n",
    "\n",
    "# 함수호출 \n",
    "compress_images(folders)"
   ]
  },
  {
   "cell_type": "markdown",
   "metadata": {},
   "source": [
    "# AUTOMATIC1111업데이트（업데이트가 필요할 때만 실행）"
   ]
  },
  {
   "cell_type": "code",
   "execution_count": null,
   "metadata": {
    "id": "a3c-0LBjpYXe"
   },
   "outputs": [],
   "source": [
    "# Stable Diffusion WebUI을 최신버전으로 업데이트 함 \n",
    "%cd /notebooks/ui\n",
    "!git checkout master\n",
    "!git pull\n",
    "\n",
    "#실패시 \n",
    "# !git pull https://github.com/AUTOMATIC1111/stable-diffusion-webui master"
   ]
  },
  {
   "cell_type": "markdown",
   "metadata": {},
   "source": [
    "# 용량확인 및 정리 "
   ]
  },
  {
   "cell_type": "code",
   "execution_count": null,
   "metadata": {},
   "outputs": [],
   "source": [
    "\"\"\"\n",
    "삭제하지 않는 것은 주석처리한다.\n",
    "주석처리 방법: #을 사용하여 주석처리한다.\n",
    "\"\"\"\n",
    "# 10MB이상의 파일위치와 크기를 내림차순으로 나열함 \n",
    "%cd /notebooks\n",
    "!find . -size +10M -print0 | du -ch --files0-from=- | sort -hr\n",
    "\n",
    "# bak 내용 모두 지우기  ---------------------------------------------------\n",
    "!rm -fr ./bak/*\n",
    "\n",
    "# 실행시 자동 다운로드되는 파일 삭제하기  ---------------------------------------------------\n",
    "!rm -fr ./ui/extensions/sd-webui-controlnet/annotator/downloads/* \n",
    "!rm -f ./ui/models/BLIP/model_base_caption_capfilt_large.pth\n",
    "!rm -f ./ui/models/torch_deepdanbooru/model-resnet_custom_v3.pt\n",
    "\n",
    "# 각 모델파일 모두 지우기  ---------------------------------------------------\n",
    "# !rm -f ./ui/models/Stable-diffusion/* # Model\n",
    "# !rm -f ./ui/models/Lora/* # LoRA\n",
    "# !rm -f ./ui/models/ControlNet/* # Controlnet\n",
    "\n",
    "# 대상파일을 삭제하고 싶은 경우  ---------------------------------------------------\n",
    "# !rm -f <삭제할 파일 경로>"
   ]
  }
 ],
 "metadata": {
  "colab": {
   "private_outputs": true,
   "provenance": []
  },
  "gpuClass": "standard",
  "kernelspec": {
   "display_name": "Python 3 (ipykernel)",
   "language": "python",
   "name": "python3"
  },
  "language_info": {
   "codemirror_mode": {
    "name": "ipython",
    "version": 3
   },
   "file_extension": ".py",
   "mimetype": "text/x-python",
   "name": "python",
   "nbconvert_exporter": "python",
   "pygments_lexer": "ipython3",
   "version": "3.11.7"
  }
 },
 "nbformat": 4,
 "nbformat_minor": 4
}
